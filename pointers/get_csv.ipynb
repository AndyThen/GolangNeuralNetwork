{
 "cells": [
  {
   "cell_type": "code",
   "execution_count": 1,
   "metadata": {},
   "outputs": [],
   "source": [
    "import yfinance as yf\n",
    "import numpy as np\n",
    "import pandas as pd\n",
    "from datetime import timedelta, datetime"
   ]
  },
  {
   "cell_type": "code",
   "execution_count": 2,
   "metadata": {},
   "outputs": [
    {
     "name": "stdout",
     "output_type": "stream",
     "text": [
      "2024-12-27\n",
      "2025-02-25\n",
      "YF.download() has changed argument auto_adjust default to True\n"
     ]
    },
    {
     "name": "stderr",
     "output_type": "stream",
     "text": [
      "[*********************100%***********************]  1 of 1 completed\n"
     ]
    },
    {
     "data": {
      "text/html": [
       "<div>\n",
       "<style scoped>\n",
       "    .dataframe tbody tr th:only-of-type {\n",
       "        vertical-align: middle;\n",
       "    }\n",
       "\n",
       "    .dataframe tbody tr th {\n",
       "        vertical-align: top;\n",
       "    }\n",
       "\n",
       "    .dataframe thead tr th {\n",
       "        text-align: left;\n",
       "    }\n",
       "\n",
       "    .dataframe thead tr:last-of-type th {\n",
       "        text-align: right;\n",
       "    }\n",
       "</style>\n",
       "<table border=\"1\" class=\"dataframe\">\n",
       "  <thead>\n",
       "    <tr>\n",
       "      <th>Price</th>\n",
       "      <th>Close</th>\n",
       "      <th>High</th>\n",
       "      <th>Low</th>\n",
       "      <th>Open</th>\n",
       "      <th>Volume</th>\n",
       "    </tr>\n",
       "    <tr>\n",
       "      <th>Ticker</th>\n",
       "      <th>FE</th>\n",
       "      <th>FE</th>\n",
       "      <th>FE</th>\n",
       "      <th>FE</th>\n",
       "      <th>FE</th>\n",
       "    </tr>\n",
       "    <tr>\n",
       "      <th>Date</th>\n",
       "      <th></th>\n",
       "      <th></th>\n",
       "      <th></th>\n",
       "      <th></th>\n",
       "      <th></th>\n",
       "    </tr>\n",
       "  </thead>\n",
       "  <tbody>\n",
       "    <tr>\n",
       "      <th>2024-12-27</th>\n",
       "      <td>39.249870</td>\n",
       "      <td>39.477438</td>\n",
       "      <td>39.032203</td>\n",
       "      <td>39.111354</td>\n",
       "      <td>1864000</td>\n",
       "    </tr>\n",
       "    <tr>\n",
       "      <th>2024-12-30</th>\n",
       "      <td>39.220188</td>\n",
       "      <td>39.309235</td>\n",
       "      <td>38.873896</td>\n",
       "      <td>39.121249</td>\n",
       "      <td>2113800</td>\n",
       "    </tr>\n",
       "    <tr>\n",
       "      <th>2024-12-31</th>\n",
       "      <td>39.358707</td>\n",
       "      <td>39.447754</td>\n",
       "      <td>39.091566</td>\n",
       "      <td>39.220191</td>\n",
       "      <td>2501400</td>\n",
       "    </tr>\n",
       "    <tr>\n",
       "      <th>2025-01-02</th>\n",
       "      <td>39.487331</td>\n",
       "      <td>39.794050</td>\n",
       "      <td>39.329026</td>\n",
       "      <td>39.625848</td>\n",
       "      <td>1968200</td>\n",
       "    </tr>\n",
       "    <tr>\n",
       "      <th>2025-01-03</th>\n",
       "      <td>39.497223</td>\n",
       "      <td>39.853411</td>\n",
       "      <td>39.457649</td>\n",
       "      <td>39.665424</td>\n",
       "      <td>1990100</td>\n",
       "    </tr>\n",
       "  </tbody>\n",
       "</table>\n",
       "</div>"
      ],
      "text/plain": [
       "Price           Close       High        Low       Open   Volume\n",
       "Ticker             FE         FE         FE         FE       FE\n",
       "Date                                                           \n",
       "2024-12-27  39.249870  39.477438  39.032203  39.111354  1864000\n",
       "2024-12-30  39.220188  39.309235  38.873896  39.121249  2113800\n",
       "2024-12-31  39.358707  39.447754  39.091566  39.220191  2501400\n",
       "2025-01-02  39.487331  39.794050  39.329026  39.625848  1968200\n",
       "2025-01-03  39.497223  39.853411  39.457649  39.665424  1990100"
      ]
     },
     "execution_count": 2,
     "metadata": {},
     "output_type": "execute_result"
    }
   ],
   "source": [
    "tickers = [\n",
    "    \"TOST\",\n",
    "    \"KTOS\",\n",
    "    \"CRM\",\n",
    "    \"SNOW\",\n",
    "    \"SNPS\",\n",
    "    \"A\",\n",
    "    \"FE\",\n",
    "    \"IONQ\",\n",
    "]\n",
    "\n",
    "ticker = tickers[6]\n",
    "\n",
    "# Get today's date\n",
    "end_date = datetime.now()\n",
    "start_date = end_date - timedelta(days=60)\n",
    "\n",
    "# Format the dates\n",
    "start = start_date.strftime(\"%Y-%m-%d\")\n",
    "end = end_date.strftime(\"%Y-%m-%d\")\n",
    "\n",
    "print(start)\n",
    "print(end)\n",
    "\n",
    "# Download data from Yahoo Finance\n",
    "df = yf.download(ticker, start=start, end=end)\n",
    "df.head()"
   ]
  },
  {
   "cell_type": "code",
   "execution_count": 3,
   "metadata": {},
   "outputs": [],
   "source": [
    "def get_features(df):\n",
    "    # First, fix the column structure\n",
    "    df.columns = df.columns.droplevel(1)  # Remove the 'Ticker' level\n",
    "    \n",
    "    # Now we can access 'Close' directly\n",
    "    df[\"LGR\"] = np.log(df[\"Close\"] / df[\"Close\"].shift(1))\n",
    "    df[\"Volume\"] = np.log(df[\"Volume\"])\n",
    "    df[\"Volatility\"] = df[\"Close\"].rolling(5).std()  # Using rolling 5-day standard deviation\n",
    "    df = df.dropna()\n",
    "    \n",
    "    # Select only the features we need\n",
    "    result_df = df[[\"LGR\", \"Volume\", \"Volatility\"]]\n",
    "    return result_df\n",
    "\n",
    "df = get_features(df)\n",
    "path = f\"/Users/andy/FirstEng/CSVs/{ticker}_features.csv\"\n",
    "# Save without the index to simplify the CSV structure\n",
    "df.to_csv(path, index=False)"
   ]
  },
  {
   "cell_type": "code",
   "execution_count": 4,
   "metadata": {},
   "outputs": [],
   "source": [
    "path = f\"/Users/andy/FirstEng/CSVs/{ticker}_features.csv\"\n",
    "df.to_csv(path)"
   ]
  }
 ],
 "metadata": {
  "kernelspec": {
   "display_name": "FirstEnergy",
   "language": "python",
   "name": "python3"
  },
  "language_info": {
   "codemirror_mode": {
    "name": "ipython",
    "version": 3
   },
   "file_extension": ".py",
   "mimetype": "text/x-python",
   "name": "python",
   "nbconvert_exporter": "python",
   "pygments_lexer": "ipython3",
   "version": "3.13.2"
  }
 },
 "nbformat": 4,
 "nbformat_minor": 2
}
